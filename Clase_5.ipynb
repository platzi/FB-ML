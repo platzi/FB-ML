{
  "nbformat": 4,
  "nbformat_minor": 0,
  "metadata": {
    "colab": {
      "name": "Clase 5.ipynb",
      "version": "0.3.2",
      "provenance": [],
      "collapsed_sections": [
        "1hXRqa_nxXzN"
      ]
    },
    "kernelspec": {
      "name": "python3",
      "display_name": "Python 3"
    }
  },
  "cells": [
    {
      "cell_type": "code",
      "metadata": {
        "id": "ZERXn52axUyC",
        "colab_type": "code",
        "colab": {}
      },
      "source": [
        "import torch\n",
        "import torch.nn as nn\n",
        "import torch.optim as optim\n",
        "\n",
        "from torchvision import utils\n",
        "from torchvision import datasets\n",
        "from torchvision import transforms\n",
        "\n",
        "from PIL import Image\n",
        "import urllib.request as request\n",
        "from matplotlib import pyplot as plt"
      ],
      "execution_count": 0,
      "outputs": []
    },
    {
      "cell_type": "markdown",
      "metadata": {
        "id": "1hXRqa_nxXzN",
        "colab_type": "text"
      },
      "source": [
        "# Construyendo un modelo\n",
        "\n",
        "---\n",
        "\n"
      ]
    },
    {
      "cell_type": "code",
      "metadata": {
        "id": "0iPERFVsxZ5T",
        "colab_type": "code",
        "colab": {
          "base_uri": "https://localhost:8080/",
          "height": 55
        },
        "outputId": "74538062-d2e8-4497-879a-118f47b32414"
      },
      "source": [
        "data_path = 'data/'\n",
        "full_data_set = datasets.CIFAR10(data_path, train=True, download=True,\n",
        "                          transform=transforms.Compose([\n",
        "                              transforms.ToTensor(),\n",
        "                              transforms.Normalize((0.4915, 0.4823, 0.4468),\n",
        "                                                   (0.2470, 0.2435, 0.2616))\n",
        "                          ]))\n",
        "\n",
        "full_validation_set = datasets.CIFAR10(data_path, train=False, download=True,\n",
        "                          transform=transforms.Compose([\n",
        "                              transforms.ToTensor(),\n",
        "                              transforms.Normalize((0.4915, 0.4823, 0.4468),\n",
        "                                                   (0.2470, 0.2435, 0.2616))\n",
        "                          ]))"
      ],
      "execution_count": 7,
      "outputs": [
        {
          "output_type": "stream",
          "text": [
            "Files already downloaded and verified\n",
            "Files already downloaded and verified\n"
          ],
          "name": "stdout"
        }
      ]
    },
    {
      "cell_type": "code",
      "metadata": {
        "id": "VWew-fKzyCL-",
        "colab_type": "code",
        "colab": {}
      },
      "source": [
        "size = 4\n",
        "dataloader = torch.utils.data.DataLoader(full_data_set, batch_size=size, shuffle=True, num_workers=2)"
      ],
      "execution_count": 0,
      "outputs": []
    },
    {
      "cell_type": "code",
      "metadata": {
        "id": "Z-edYRo2yJ38",
        "colab_type": "code",
        "colab": {
          "base_uri": "https://localhost:8080/",
          "height": 36
        },
        "outputId": "cfc15e5d-3a27-4136-bd4b-b7af926406d2"
      },
      "source": [
        "len(full_data_set)"
      ],
      "execution_count": 4,
      "outputs": [
        {
          "output_type": "execute_result",
          "data": {
            "text/plain": [
              "50000"
            ]
          },
          "metadata": {
            "tags": []
          },
          "execution_count": 4
        }
      ]
    },
    {
      "cell_type": "code",
      "metadata": {
        "id": "YsSNRPwJyTvF",
        "colab_type": "code",
        "colab": {
          "base_uri": "https://localhost:8080/",
          "height": 253
        },
        "outputId": "0dd70a70-1414-4582-f075-96438f775d92"
      },
      "source": [
        "data_iterator = iter(dataloader)\n",
        "imgs, labels = data_iterator.next()\n",
        "\n",
        "\n",
        "classes = ['plane','car','bird','cat','deer','dog','frog','horse','ship','truck']\n",
        "\n",
        "plt.imshow(utils.make_grid(imgs).permute(1, 2, 0))\n",
        "\n",
        "for i in range(size):\n",
        "  print(classes[labels[i]])"
      ],
      "execution_count": 9,
      "outputs": [
        {
          "output_type": "stream",
          "text": [
            "Clipping input data to the valid range for imshow with RGB data ([0..1] for floats or [0..255] for integers).\n"
          ],
          "name": "stderr"
        },
        {
          "output_type": "stream",
          "text": [
            "cat\n",
            "horse\n",
            "frog\n",
            "deer\n"
          ],
          "name": "stdout"
        },
        {
          "output_type": "display_data",
          "data": {
            "image/png": "[encoded data removed]",
            "text/plain": [
              "<Figure size 432x288 with 1 Axes>"
            ]
          },
          "metadata": {
            "tags": []
          }
        }
      ]
    },
    {
      "cell_type": "code",
      "metadata": {
        "id": "QE-cUmRYyuY0",
        "colab_type": "code",
        "colab": {}
      },
      "source": [
        "class_names = ['car', 'cat']\n",
        "\n",
        "label_map = {1: 0, 3: 1}\n",
        "\n",
        "data_set = [(img, label_map[label]) for img, label in full_data_set if label in [1, 3]]\n",
        "validation_set = [(img, label_map[label]) for img, label in full_validation_set if label in [1, 3]]"
      ],
      "execution_count": 0,
      "outputs": []
    },
    {
      "cell_type": "code",
      "metadata": {
        "id": "6o4rGHTQy390",
        "colab_type": "code",
        "colab": {
          "base_uri": "https://localhost:8080/",
          "height": 36
        },
        "outputId": "cfc4efc0-bbe2-42ea-b151-711dd7f927a8"
      },
      "source": [
        "img, label = data_set[20]\n",
        "img.shape"
      ],
      "execution_count": 11,
      "outputs": [
        {
          "output_type": "execute_result",
          "data": {
            "text/plain": [
              "torch.Size([3, 32, 32])"
            ]
          },
          "metadata": {
            "tags": []
          },
          "execution_count": 11
        }
      ]
    },
    {
      "cell_type": "code",
      "metadata": {
        "id": "EX7_mxHLy8D8",
        "colab_type": "code",
        "colab": {}
      },
      "source": [
        "model = nn.Sequential(\n",
        "          nn.Linear(3 * 32 * 32, 512),\n",
        "          nn.Tanh(),\n",
        "          nn.Linear(512, 2)\n",
        "        )"
      ],
      "execution_count": 0,
      "outputs": []
    },
    {
      "cell_type": "code",
      "metadata": {
        "id": "GDg_xOChzTtU",
        "colab_type": "code",
        "colab": {}
      },
      "source": [
        "def softmax(x):\n",
        "    return torch.exp(x) / torch.exp(x).sum()"
      ],
      "execution_count": 0,
      "outputs": []
    },
    {
      "cell_type": "code",
      "metadata": {
        "id": "RZQW6FfUzZhM",
        "colab_type": "code",
        "colab": {}
      },
      "source": [
        "x = torch.tensor([1.0, 2.0, 3.0])\n"
      ],
      "execution_count": 0,
      "outputs": []
    },
    {
      "cell_type": "code",
      "metadata": {
        "id": "SkG1eQu3zcy5",
        "colab_type": "code",
        "colab": {
          "base_uri": "https://localhost:8080/",
          "height": 36
        },
        "outputId": "535f086b-df6f-486a-e16a-0a6e708fb54a"
      },
      "source": [
        "softmax(x).sum()"
      ],
      "execution_count": 16,
      "outputs": [
        {
          "output_type": "execute_result",
          "data": {
            "text/plain": [
              "tensor(1.)"
            ]
          },
          "metadata": {
            "tags": []
          },
          "execution_count": 16
        }
      ]
    },
    {
      "cell_type": "code",
      "metadata": {
        "id": "_H4rlBI0zigq",
        "colab_type": "code",
        "colab": {}
      },
      "source": [
        "model = nn.Sequential(\n",
        "          nn.Linear(3 * 32 * 32, 512),\n",
        "          nn.Tanh(),\n",
        "          nn.Linear(512, 2),\n",
        "          nn.Softmax(dim=1)\n",
        "        )"
      ],
      "execution_count": 0,
      "outputs": []
    },
    {
      "cell_type": "code",
      "metadata": {
        "id": "yEg-THjvzoyQ",
        "colab_type": "code",
        "colab": {
          "base_uri": "https://localhost:8080/",
          "height": 327
        },
        "outputId": "30cabd09-af4d-4c99-d151-b774a07cb96c"
      },
      "source": [
        "img, label = data_set[20]\n",
        "plt.imshow(img.permute(1, 2, 0))\n",
        "class_names[label]"
      ],
      "execution_count": 19,
      "outputs": [
        {
          "output_type": "stream",
          "text": [
            "Clipping input data to the valid range for imshow with RGB data ([0..1] for floats or [0..255] for integers).\n"
          ],
          "name": "stderr"
        },
        {
          "output_type": "execute_result",
          "data": {
            "text/plain": [
              "'car'"
            ]
          },
          "metadata": {
            "tags": []
          },
          "execution_count": 19
        },
        {
          "output_type": "display_data",
          "data": {
            "image/png": "[encoded data removed]",
            "text/plain": [
              "<Figure size 432x288 with 1 Axes>"
            ]
          },
          "metadata": {
            "tags": []
          }
        }
      ]
    },
    {
      "cell_type": "code",
      "metadata": {
        "id": "jOnh2M5lzxYJ",
        "colab_type": "code",
        "colab": {
          "base_uri": "https://localhost:8080/",
          "height": 36
        },
        "outputId": "b276cda7-5dfe-46c8-d4b3-2d86412293d5"
      },
      "source": [
        "out = model(img.view(-1).unsqueeze(0))\n",
        "out"
      ],
      "execution_count": 20,
      "outputs": [
        {
          "output_type": "execute_result",
          "data": {
            "text/plain": [
              "tensor([[0.5255, 0.4745]], grad_fn=<SoftmaxBackward>)"
            ]
          },
          "metadata": {
            "tags": []
          },
          "execution_count": 20
        }
      ]
    },
    {
      "cell_type": "code",
      "metadata": {
        "id": "CdnEOyBez4GS",
        "colab_type": "code",
        "colab": {}
      },
      "source": [
        "_, index = torch.max(out, dim=1)"
      ],
      "execution_count": 0,
      "outputs": []
    },
    {
      "cell_type": "code",
      "metadata": {
        "id": "boRTWMiUz96Q",
        "colab_type": "code",
        "colab": {
          "base_uri": "https://localhost:8080/",
          "height": 36
        },
        "outputId": "c0c0a521-c4e0-4ba1-e725-d29c7b8d18db"
      },
      "source": [
        "print('->',class_names[label],' model:',class_names[index])"
      ],
      "execution_count": 22,
      "outputs": [
        {
          "output_type": "stream",
          "text": [
            "-> car  model: car\n"
          ],
          "name": "stdout"
        }
      ]
    },
    {
      "cell_type": "markdown",
      "metadata": {
        "id": "aJ_VkOav0R2o",
        "colab_type": "text"
      },
      "source": [
        "# Implementado un clasificador totalmente conectado\n",
        "\n",
        "---\n",
        "\n"
      ]
    },
    {
      "cell_type": "code",
      "metadata": {
        "id": "PhZJqfMe0Vh4",
        "colab_type": "code",
        "colab": {}
      },
      "source": [
        "model = nn.Sequential(\n",
        "          nn.Linear(3 * 32 * 32, 512),\n",
        "          nn.Tanh(),\n",
        "          nn.Linear(512, 2),\n",
        "          nn.LogSoftmax(dim=1)\n",
        "        )\n",
        "\n",
        "loss_function = nn.NLLLoss()"
      ],
      "execution_count": 0,
      "outputs": []
    },
    {
      "cell_type": "code",
      "metadata": {
        "id": "5aXwOaHr1PvP",
        "colab_type": "code",
        "colab": {
          "base_uri": "https://localhost:8080/",
          "height": 306
        },
        "outputId": "5fe172c7-5db0-44cd-ce3e-8da08315fcf4"
      },
      "source": [
        "img, label = data_set[20]\n",
        "plt.imshow(img.permute(1, 2, 0))\n",
        "class_names[label]\n"
      ],
      "execution_count": 26,
      "outputs": [
        {
          "output_type": "stream",
          "text": [
            "Clipping input data to the valid range for imshow with RGB data ([0..1] for floats or [0..255] for integers).\n"
          ],
          "name": "stderr"
        },
        {
          "output_type": "execute_result",
          "data": {
            "text/plain": [
              "'car'"
            ]
          },
          "metadata": {
            "tags": []
          },
          "execution_count": 26
        },
        {
          "output_type": "display_data",
          "data": {
            "image/png": "[encoded data removed]",
            "text/plain": [
              "<Figure size 432x288 with 1 Axes>"
            ]
          },
          "metadata": {
            "tags": []
          }
        }
      ]
    },
    {
      "cell_type": "code",
      "metadata": {
        "id": "U78jPh661aLF",
        "colab_type": "code",
        "colab": {
          "base_uri": "https://localhost:8080/",
          "height": 54
        },
        "outputId": "4d24a5fc-5bd8-4809-bec4-b82376003963"
      },
      "source": [
        "\n",
        "out = model(img.view(-1).unsqueeze(0))\n",
        "print(out)\n",
        "\n",
        "print('->',class_names[label],' model:',class_names[index])"
      ],
      "execution_count": 28,
      "outputs": [
        {
          "output_type": "stream",
          "text": [
            "tensor([[-0.7759, -0.6167]], grad_fn=<LogSoftmaxBackward>)\n",
            "-> car  model: car\n"
          ],
          "name": "stdout"
        }
      ]
    },
    {
      "cell_type": "code",
      "metadata": {
        "id": "u2WLCHpv1lSG",
        "colab_type": "code",
        "colab": {
          "base_uri": "https://localhost:8080/",
          "height": 110
        },
        "outputId": "f5d82b02-7465-418b-d501-ef8b874c95c8"
      },
      "source": [
        "model = nn.Sequential(\n",
        "          nn.Linear(3 * 32 * 32, 512),\n",
        "          nn.Tanh(),\n",
        "          nn.Linear(512, 2),\n",
        "          nn.LogSoftmax(dim=1)\n",
        "        )\n",
        "\n",
        "loss_function = nn.NLLLoss()\n",
        "\n",
        "optimizer = optim.SGD(model.parameters(), lr=0.01)\n",
        "\n",
        "n_epochs = 5\n",
        "\n",
        "for epoch in range(n_epochs):\n",
        "    for img, label in data_set:\n",
        "        out = model(img.view(-1).unsqueeze(0))\n",
        "        loss = loss_function(out, torch.tensor([label]))\n",
        "        \n",
        "        optimizer.zero_grad()\n",
        "        loss.backward()\n",
        "        optimizer.step()\n",
        "        \n",
        "    print(\"Epoch: %d, Loss: %f\" % (epoch, float(loss)))\n",
        "        "
      ],
      "execution_count": 39,
      "outputs": [
        {
          "output_type": "stream",
          "text": [
            "Epoch: 0, Loss: 0.000454\n",
            "Epoch: 1, Loss: 0.622884\n",
            "Epoch: 2, Loss: 0.000384\n",
            "Epoch: 3, Loss: 0.051433\n",
            "Epoch: 4, Loss: 0.000017\n"
          ],
          "name": "stdout"
        }
      ]
    },
    {
      "cell_type": "code",
      "metadata": {
        "id": "VUGVJn2q6eRS",
        "colab_type": "code",
        "colab": {
          "base_uri": "https://localhost:8080/",
          "height": 1886
        },
        "outputId": "ab4c3249-d66c-48dd-c5de-57af30bf0913"
      },
      "source": [
        "train_loader = torch.utils.data.DataLoader(data_set, batch_size=64, shuffle=True)\n",
        "\n",
        "model = nn.Sequential(\n",
        "          nn.Linear(3 * 32 * 32, 512),\n",
        "          nn.Tanh(),\n",
        "          nn.Linear(512, 2),\n",
        "          nn.LogSoftmax(dim=1)\n",
        "        )\n",
        "\n",
        "loss_function = nn.NLLLoss()\n",
        "\n",
        "optimizer = optim.SGD(model.parameters(), lr=0.01)\n",
        "\n",
        "n_epochs = 100\n",
        "\n",
        "for epoch in range(n_epochs):\n",
        "    for img, label in train_loader:\n",
        "        out = model(img.view(img.shape[0], -1))\n",
        "        loss = loss_function(out, label)\n",
        "        \n",
        "        optimizer.zero_grad()\n",
        "        loss.backward()\n",
        "        optimizer.step()\n",
        "        \n",
        "    print(\"Epoch: %d, Loss: %f\" % (epoch, float(loss)))\n",
        "        "
      ],
      "execution_count": 40,
      "outputs": [
        {
          "output_type": "stream",
          "text": [
            "Epoch: 0, Loss: 0.483763\n",
            "Epoch: 1, Loss: 0.331189\n",
            "Epoch: 2, Loss: 0.324415\n",
            "Epoch: 3, Loss: 0.402131\n",
            "Epoch: 4, Loss: 0.252187\n",
            "Epoch: 5, Loss: 0.308302\n",
            "Epoch: 6, Loss: 0.239773\n",
            "Epoch: 7, Loss: 0.712734\n",
            "Epoch: 8, Loss: 0.260344\n",
            "Epoch: 9, Loss: 0.316395\n",
            "Epoch: 10, Loss: 0.122061\n",
            "Epoch: 11, Loss: 0.150706\n",
            "Epoch: 12, Loss: 0.254292\n",
            "Epoch: 13, Loss: 0.309651\n",
            "Epoch: 14, Loss: 0.464655\n",
            "Epoch: 15, Loss: 0.210825\n",
            "Epoch: 16, Loss: 0.205055\n",
            "Epoch: 17, Loss: 0.399063\n",
            "Epoch: 18, Loss: 0.143873\n",
            "Epoch: 19, Loss: 0.225914\n",
            "Epoch: 20, Loss: 0.144990\n",
            "Epoch: 21, Loss: 0.088797\n",
            "Epoch: 22, Loss: 0.101850\n",
            "Epoch: 23, Loss: 0.071191\n",
            "Epoch: 24, Loss: 0.065572\n",
            "Epoch: 25, Loss: 0.111635\n",
            "Epoch: 26, Loss: 0.257789\n",
            "Epoch: 27, Loss: 0.086742\n",
            "Epoch: 28, Loss: 0.074511\n",
            "Epoch: 29, Loss: 0.059934\n",
            "Epoch: 30, Loss: 0.143438\n",
            "Epoch: 31, Loss: 0.069244\n",
            "Epoch: 32, Loss: 0.051873\n",
            "Epoch: 33, Loss: 0.034101\n",
            "Epoch: 34, Loss: 0.065391\n",
            "Epoch: 35, Loss: 0.035495\n",
            "Epoch: 36, Loss: 0.073610\n",
            "Epoch: 37, Loss: 0.031068\n",
            "Epoch: 38, Loss: 0.032121\n",
            "Epoch: 39, Loss: 0.032027\n",
            "Epoch: 40, Loss: 0.014392\n",
            "Epoch: 41, Loss: 0.012478\n",
            "Epoch: 42, Loss: 0.014385\n",
            "Epoch: 43, Loss: 0.031939\n",
            "Epoch: 44, Loss: 0.025489\n",
            "Epoch: 45, Loss: 0.028839\n",
            "Epoch: 46, Loss: 0.018556\n",
            "Epoch: 47, Loss: 0.068614\n",
            "Epoch: 48, Loss: 0.020970\n",
            "Epoch: 49, Loss: 0.012705\n",
            "Epoch: 50, Loss: 0.015479\n",
            "Epoch: 51, Loss: 0.012283\n",
            "Epoch: 52, Loss: 0.028498\n",
            "Epoch: 53, Loss: 0.005860\n",
            "Epoch: 54, Loss: 0.009489\n",
            "Epoch: 55, Loss: 0.018781\n",
            "Epoch: 56, Loss: 0.014693\n",
            "Epoch: 57, Loss: 0.016499\n",
            "Epoch: 58, Loss: 0.022084\n",
            "Epoch: 59, Loss: 0.014778\n",
            "Epoch: 60, Loss: 0.008871\n",
            "Epoch: 61, Loss: 0.014335\n",
            "Epoch: 62, Loss: 0.006593\n",
            "Epoch: 63, Loss: 0.023203\n",
            "Epoch: 64, Loss: 0.010790\n",
            "Epoch: 65, Loss: 0.021084\n",
            "Epoch: 66, Loss: 0.026207\n",
            "Epoch: 67, Loss: 0.012538\n",
            "Epoch: 68, Loss: 0.016845\n",
            "Epoch: 69, Loss: 0.013730\n",
            "Epoch: 70, Loss: 0.009766\n",
            "Epoch: 71, Loss: 0.010334\n",
            "Epoch: 72, Loss: 0.007070\n",
            "Epoch: 73, Loss: 0.010559\n",
            "Epoch: 74, Loss: 0.008906\n",
            "Epoch: 75, Loss: 0.008359\n",
            "Epoch: 76, Loss: 0.005207\n",
            "Epoch: 77, Loss: 0.016953\n",
            "Epoch: 78, Loss: 0.005259\n",
            "Epoch: 79, Loss: 0.010371\n",
            "Epoch: 80, Loss: 0.010775\n",
            "Epoch: 81, Loss: 0.008219\n",
            "Epoch: 82, Loss: 0.006095\n",
            "Epoch: 83, Loss: 0.006415\n",
            "Epoch: 84, Loss: 0.006051\n",
            "Epoch: 85, Loss: 0.009481\n",
            "Epoch: 86, Loss: 0.004994\n",
            "Epoch: 87, Loss: 0.005191\n",
            "Epoch: 88, Loss: 0.006226\n",
            "Epoch: 89, Loss: 0.011358\n",
            "Epoch: 90, Loss: 0.007222\n",
            "Epoch: 91, Loss: 0.007085\n",
            "Epoch: 92, Loss: 0.006748\n",
            "Epoch: 93, Loss: 0.006516\n",
            "Epoch: 94, Loss: 0.004865\n",
            "Epoch: 95, Loss: 0.005519\n",
            "Epoch: 96, Loss: 0.004372\n",
            "Epoch: 97, Loss: 0.007590\n",
            "Epoch: 98, Loss: 0.008016\n",
            "Epoch: 99, Loss: 0.004873\n"
          ],
          "name": "stdout"
        }
      ]
    },
    {
      "cell_type": "code",
      "metadata": {
        "id": "qkrQZ8j37_tf",
        "colab_type": "code",
        "colab": {
          "base_uri": "https://localhost:8080/",
          "height": 36
        },
        "outputId": "b3ef8d81-f1c7-4d97-98a4-d0263be1c8be"
      },
      "source": [
        "val_loader = torch.utils.data.DataLoader(validation_set, batch_size=64, shuffle=False)\n",
        "\n",
        "correct = 0\n",
        "total = 0\n",
        "\n",
        "with torch.no_grad():\n",
        "    for imgs, labels in val_loader:\n",
        "        outputs = model(imgs.view(imgs.shape[0], -1))\n",
        "        _, predicted = torch.max(outputs, dim=1)\n",
        "        total += labels.shape[0]\n",
        "\n",
        "        correct += int((predicted == labels).sum())\n",
        "      \n",
        "print(\"Accuracy: %f\" % (correct / total))"
      ],
      "execution_count": 41,
      "outputs": [
        {
          "output_type": "stream",
          "text": [
            "Accuracy: 0.877000\n"
          ],
          "name": "stdout"
        }
      ]
    },
    {
      "cell_type": "code",
      "metadata": {
        "id": "FJ6_Lw8b8PmE",
        "colab_type": "code",
        "colab": {
          "base_uri": "https://localhost:8080/",
          "height": 36
        },
        "outputId": "d50674c6-de97-42e6-f969-5faa06e61e27"
      },
      "source": [
        "img, label = validation_set[20]\n",
        "out = model(img.view(-1).unsqueeze(0))\n",
        "_, index = torch.max(out, dim=1)\n",
        "out"
      ],
      "execution_count": 42,
      "outputs": [
        {
          "output_type": "execute_result",
          "data": {
            "text/plain": [
              "tensor([[-7.1526e-06, -1.1820e+01]], grad_fn=<LogSoftmaxBackward>)"
            ]
          },
          "metadata": {
            "tags": []
          },
          "execution_count": 42
        }
      ]
    },
    {
      "cell_type": "code",
      "metadata": {
        "id": "YAxHzJ3z8W5b",
        "colab_type": "code",
        "colab": {
          "base_uri": "https://localhost:8080/",
          "height": 306
        },
        "outputId": "47c97e15-7f32-4ab7-b4fc-f71d5c7a9ccb"
      },
      "source": [
        "print('->: ',class_names[label],' model:',class_names[index])\n",
        "plt.imshow(img.permute(1, 2, 0))\n",
        "plt.show()"
      ],
      "execution_count": 43,
      "outputs": [
        {
          "output_type": "stream",
          "text": [
            "Clipping input data to the valid range for imshow with RGB data ([0..1] for floats or [0..255] for integers).\n"
          ],
          "name": "stderr"
        },
        {
          "output_type": "stream",
          "text": [
            "->:  car  model: car\n"
          ],
          "name": "stdout"
        },
        {
          "output_type": "display_data",
          "data": {
            "image/png": "[encoded data removed]",
            "text/plain": [
              "<Figure size 432x288 with 1 Axes>"
            ]
          },
          "metadata": {
            "tags": []
          }
        }
      ]
    },
    {
      "cell_type": "markdown",
      "metadata": {
        "id": "zZXhFaxa8lAn",
        "colab_type": "text"
      },
      "source": [
        "# Mejoras, limitaciones y conclusiones\n",
        "\n",
        "---\n",
        "\n"
      ]
    },
    {
      "cell_type": "code",
      "metadata": {
        "id": "zwya1o428rbU",
        "colab_type": "code",
        "colab": {
          "base_uri": "https://localhost:8080/",
          "height": 1886
        },
        "outputId": "db463ed6-ade2-45b1-e85f-57c0d2df7d2b"
      },
      "source": [
        "train_loader = torch.utils.data.DataLoader(data_set, batch_size=64, shuffle=True)\n",
        "\n",
        "model = nn.Sequential(\n",
        "          nn.Linear(3072, 1024),\n",
        "          nn.Tanh(),\n",
        "          nn.Linear(1024, 512),\n",
        "          nn.Tanh(),\n",
        "          nn.Linear(512, 128),\n",
        "          nn.Tanh(),\n",
        "          nn.Linear(128, 2)\n",
        "        )\n",
        "\n",
        "loss_function = nn.CrossEntropyLoss()\n",
        "\n",
        "optimizer = optim.SGD(model.parameters(), lr=0.01)\n",
        "\n",
        "n_epochs = 100\n",
        "\n",
        "for epoch in range(n_epochs):\n",
        "    for img, label in train_loader:\n",
        "        out = model(img.view(img.shape[0], -1))\n",
        "        loss = loss_function(out, label)\n",
        "        \n",
        "        optimizer.zero_grad()\n",
        "        loss.backward()\n",
        "        optimizer.step()\n",
        "        \n",
        "    print(\"Epoch: %d, Loss: %f\" % (epoch, float(loss)))\n",
        "        "
      ],
      "execution_count": 44,
      "outputs": [
        {
          "output_type": "stream",
          "text": [
            "Epoch: 0, Loss: 0.419745\n",
            "Epoch: 1, Loss: 0.463121\n",
            "Epoch: 2, Loss: 0.349357\n",
            "Epoch: 3, Loss: 0.392053\n",
            "Epoch: 4, Loss: 0.627316\n",
            "Epoch: 5, Loss: 0.596408\n",
            "Epoch: 6, Loss: 0.432949\n",
            "Epoch: 7, Loss: 0.284210\n",
            "Epoch: 8, Loss: 0.206800\n",
            "Epoch: 9, Loss: 0.260543\n",
            "Epoch: 10, Loss: 0.314057\n",
            "Epoch: 11, Loss: 0.316395\n",
            "Epoch: 12, Loss: 0.379087\n",
            "Epoch: 13, Loss: 0.614842\n",
            "Epoch: 14, Loss: 0.061629\n",
            "Epoch: 15, Loss: 0.288330\n",
            "Epoch: 16, Loss: 0.266995\n",
            "Epoch: 17, Loss: 0.342613\n",
            "Epoch: 18, Loss: 0.444597\n",
            "Epoch: 19, Loss: 0.170873\n",
            "Epoch: 20, Loss: 0.154113\n",
            "Epoch: 21, Loss: 0.116633\n",
            "Epoch: 22, Loss: 0.091044\n",
            "Epoch: 23, Loss: 0.177530\n",
            "Epoch: 24, Loss: 0.111497\n",
            "Epoch: 25, Loss: 0.060874\n",
            "Epoch: 26, Loss: 0.072100\n",
            "Epoch: 27, Loss: 0.045973\n",
            "Epoch: 28, Loss: 0.029459\n",
            "Epoch: 29, Loss: 0.376824\n",
            "Epoch: 30, Loss: 0.051944\n",
            "Epoch: 31, Loss: 0.060643\n",
            "Epoch: 32, Loss: 0.011929\n",
            "Epoch: 33, Loss: 0.120630\n",
            "Epoch: 34, Loss: 0.010177\n",
            "Epoch: 35, Loss: 0.006588\n",
            "Epoch: 36, Loss: 0.002237\n",
            "Epoch: 37, Loss: 0.593091\n",
            "Epoch: 38, Loss: 0.021044\n",
            "Epoch: 39, Loss: 0.003537\n",
            "Epoch: 40, Loss: 0.224694\n",
            "Epoch: 41, Loss: 0.018656\n",
            "Epoch: 42, Loss: 0.005462\n",
            "Epoch: 43, Loss: 0.019685\n",
            "Epoch: 44, Loss: 0.007166\n",
            "Epoch: 45, Loss: 0.003753\n",
            "Epoch: 46, Loss: 0.007454\n",
            "Epoch: 47, Loss: 0.003042\n",
            "Epoch: 48, Loss: 0.004210\n",
            "Epoch: 49, Loss: 0.001182\n",
            "Epoch: 50, Loss: 0.004143\n",
            "Epoch: 51, Loss: 0.001808\n",
            "Epoch: 52, Loss: 0.001097\n",
            "Epoch: 53, Loss: 0.002732\n",
            "Epoch: 54, Loss: 0.000466\n",
            "Epoch: 55, Loss: 0.000629\n",
            "Epoch: 56, Loss: 0.000059\n",
            "Epoch: 57, Loss: 0.001220\n",
            "Epoch: 58, Loss: 0.001057\n",
            "Epoch: 59, Loss: 0.001245\n",
            "Epoch: 60, Loss: 0.000373\n",
            "Epoch: 61, Loss: 0.001113\n",
            "Epoch: 62, Loss: 0.000772\n",
            "Epoch: 63, Loss: 0.000777\n",
            "Epoch: 64, Loss: 0.000445\n",
            "Epoch: 65, Loss: 0.001224\n",
            "Epoch: 66, Loss: 0.000627\n",
            "Epoch: 67, Loss: 0.002211\n",
            "Epoch: 68, Loss: 0.000851\n",
            "Epoch: 69, Loss: 0.000556\n",
            "Epoch: 70, Loss: 0.000625\n",
            "Epoch: 71, Loss: 0.001140\n",
            "Epoch: 72, Loss: 0.003239\n",
            "Epoch: 73, Loss: 0.001187\n",
            "Epoch: 74, Loss: 0.000490\n",
            "Epoch: 75, Loss: 0.000878\n",
            "Epoch: 76, Loss: 0.001216\n",
            "Epoch: 77, Loss: 0.000219\n",
            "Epoch: 78, Loss: 0.000087\n",
            "Epoch: 79, Loss: 0.001180\n",
            "Epoch: 80, Loss: 0.000622\n",
            "Epoch: 81, Loss: 0.000283\n",
            "Epoch: 82, Loss: 0.000452\n",
            "Epoch: 83, Loss: 0.000282\n",
            "Epoch: 84, Loss: 0.000525\n",
            "Epoch: 85, Loss: 0.000239\n",
            "Epoch: 86, Loss: 0.000598\n",
            "Epoch: 87, Loss: 0.000572\n",
            "Epoch: 88, Loss: 0.000267\n",
            "Epoch: 89, Loss: 0.000339\n",
            "Epoch: 90, Loss: 0.000614\n",
            "Epoch: 91, Loss: 0.000478\n",
            "Epoch: 92, Loss: 0.000308\n",
            "Epoch: 93, Loss: 0.000459\n",
            "Epoch: 94, Loss: 0.000268\n",
            "Epoch: 95, Loss: 0.000712\n",
            "Epoch: 96, Loss: 0.000327\n",
            "Epoch: 97, Loss: 0.000803\n",
            "Epoch: 98, Loss: 0.000169\n",
            "Epoch: 99, Loss: 0.000360\n"
          ],
          "name": "stdout"
        }
      ]
    },
    {
      "cell_type": "code",
      "metadata": {
        "id": "vNX5IHgSBH-L",
        "colab_type": "code",
        "colab": {
          "base_uri": "https://localhost:8080/",
          "height": 36
        },
        "outputId": "a92af5fd-344f-42e9-976d-e8db033b4552"
      },
      "source": [
        "val_loader = torch.utils.data.DataLoader(validation_set, batch_size=64, shuffle=False)\n",
        "\n",
        "correct = 0\n",
        "total = 0\n",
        "\n",
        "with torch.no_grad():\n",
        "    for imgs, labels in val_loader:\n",
        "        outputs = model(imgs.view(imgs.shape[0], -1))\n",
        "        _, predicted = torch.max(outputs, dim=1)\n",
        "        total += labels.shape[0]\n",
        "\n",
        "        correct += int((predicted == labels).sum())\n",
        "      \n",
        "print(\"Accuracy: %f\" % (correct / total))"
      ],
      "execution_count": 45,
      "outputs": [
        {
          "output_type": "stream",
          "text": [
            "Accuracy: 0.865000\n"
          ],
          "name": "stdout"
        }
      ]
    },
    {
      "cell_type": "code",
      "metadata": {
        "id": "aZlHmBenD176",
        "colab_type": "code",
        "colab": {
          "base_uri": "https://localhost:8080/",
          "height": 36
        },
        "outputId": "253ec2a7-23f2-41d1-d74d-9f3480a546de"
      },
      "source": [
        "train_loader = torch.utils.data.DataLoader(data_set, batch_size=64, shuffle=False)\n",
        "\n",
        "correct = 0\n",
        "total = 0\n",
        "\n",
        "with torch.no_grad():\n",
        "    for imgs, labels in train_loader:\n",
        "        outputs = model(imgs.view(imgs.shape[0], -1))\n",
        "        _, predicted = torch.max(outputs, dim=1)\n",
        "        total += labels.shape[0]\n",
        "\n",
        "        correct += int((predicted == labels).sum())\n",
        "      \n",
        "print(\"Accuracy: %f\" % (correct / total))"
      ],
      "execution_count": 46,
      "outputs": [
        {
          "output_type": "stream",
          "text": [
            "Accuracy: 1.000000\n"
          ],
          "name": "stdout"
        }
      ]
    },
    {
      "cell_type": "code",
      "metadata": {
        "id": "B8zmWtg2ETsP",
        "colab_type": "code",
        "colab": {
          "base_uri": "https://localhost:8080/",
          "height": 36
        },
        "outputId": "89b2b678-7a4a-411e-a626-cfb6e6c54a19"
      },
      "source": [
        "sum([p.numel() for p in model.parameters() if p.requires_grad == True])"
      ],
      "execution_count": 47,
      "outputs": [
        {
          "output_type": "execute_result",
          "data": {
            "text/plain": [
              "3737474"
            ]
          },
          "metadata": {
            "tags": []
          },
          "execution_count": 47
        }
      ]
    },
    {
      "cell_type": "code",
      "metadata": {
        "id": "u6rmP5RiEgdS",
        "colab_type": "code",
        "colab": {
          "base_uri": "https://localhost:8080/",
          "height": 325
        },
        "outputId": "8ccacf81-a377-4f8a-8808-e30e9096b4aa"
      },
      "source": [
        "image = request.urlretrieve('https://i.pinimg.com/originals/43/bc/47/43bc47066bb8b2fa4fe7cc8e82cc3714.jpg','test,jpg')\n",
        "                            \n",
        "img = Image.open(image[0])\n",
        "\n",
        "preprocess = transforms.Compose([\n",
        "        transforms.Resize(48),\n",
        "        transforms.CenterCrop(32),\n",
        "        transforms.ToTensor(),\n",
        "        transforms.Normalize(\n",
        "            mean=[0.4915, 0.4823, 0.4468],\n",
        "            std=[0.2470, 0.2435, 0.2616]\n",
        "        )])\n",
        "\n",
        "img_t = preprocess(img)\n",
        "out = model(img_t.view(-1).unsqueeze(0))\n",
        "_, index = torch.max(out, dim=1)\n",
        "print('correct: car ',' model:',class_names[index])\n",
        "plt.imshow(img_t.permute(1, 2, 0))"
      ],
      "execution_count": 48,
      "outputs": [
        {
          "output_type": "stream",
          "text": [
            "Clipping input data to the valid range for imshow with RGB data ([0..1] for floats or [0..255] for integers).\n"
          ],
          "name": "stderr"
        },
        {
          "output_type": "stream",
          "text": [
            "correct: car   model: cat\n"
          ],
          "name": "stdout"
        },
        {
          "output_type": "execute_result",
          "data": {
            "text/plain": [
              "<matplotlib.image.AxesImage at 0x7fef366165f8>"
            ]
          },
          "metadata": {
            "tags": []
          },
          "execution_count": 48
        },
        {
          "output_type": "display_data",
          "data": {
            "image/png": "[encoded data removed]",
            "text/plain": [
              "<Figure size 432x288 with 1 Axes>"
            ]
          },
          "metadata": {
            "tags": []
          }
        }
      ]
    }
  ]
}